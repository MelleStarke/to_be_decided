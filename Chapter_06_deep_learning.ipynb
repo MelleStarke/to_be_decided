{
 "cells": [
  {
   "cell_type": "markdown",
   "metadata": {},
   "source": [
    "**\n",
    "Mik van der Drift (s4804236)  \n",
    "Melle Starke (s4792696)\n",
    "**\n",
    "\n",
    "# Chapter 6\n",
    "## Deep learning\n",
    "\n",
    "\n",
    "    Hand-in bug-free (try \"Kernel\" > \"Restart & Run All\") and including all (textual as well as figural) output via Blackboard before the deadline (see Blackboard).\n",
    "\n",
    "Learning goals:\n",
    "1. Get familiar with a state-of-the-art framework for deep learning\n",
    "1. Implement and run a convolutional neural network\n",
    "1. See what convolution does"
   ]
  },
  {
   "cell_type": "code",
   "execution_count": 1,
   "metadata": {},
   "outputs": [],
   "source": [
    "% matplotlib inline\n",
    "import matplotlib.pyplot as plt\n",
    "import numpy as np\n",
    "import chainer\n",
    "from chainer import cuda, Function, gradient_check, report, training, utils, Variable\n",
    "from chainer import datasets, iterators, optimizers, serializers\n",
    "from chainer import Link, Chain, ChainList\n",
    "import chainer.functions as F\n",
    "import chainer.links as L\n",
    "from chainer.training import extensions\n",
    "import os, json\n",
    "import scipy.signal as ss"
   ]
  },
  {
   "cell_type": "code",
   "execution_count": 2,
   "metadata": {},
   "outputs": [],
   "source": [
    "mlp_output_folder = \"chainermlp/\"\n",
    "cnn_output_folder = \"chainercnn/\"\n",
    "\n",
    "def get_losses(output_folder):\n",
    "\n",
    "    with open(os.path.join(output_folder, \"log\")) as data_file:\n",
    "        data = json.load(data_file)\n",
    "\n",
    "    training_loss = map(lambda x: x[\"main/loss\"], data)\n",
    "    validation_loss = map(lambda x: x[\"validation/main/loss\"], data)\n",
    "    \n",
    "    return training_loss, validation_loss"
   ]
  },
  {
   "cell_type": "markdown",
   "metadata": {
    "collapsed": true
   },
   "source": [
    "When working on a state-of-the-art neural network project you would rely on one of the various neural network frameworks that are available, instead of implementing core functionality by yourself. In this exercise you will work on implementing an MLP and a convolutional neural network in the Chainer framework. At the moment we use this framework for most of the work in our group as it is flexible and has quite intuitive and pythonic syntax.  \n",
    "\n",
    "Due to the popularity of deep learning various [Neural Network Frameworks](http://chainer.readthedocs.io/en/latest/comparison.html) exist, and it is unclear whether one of them will \"win\". Among those mentioned, Chainer and PyTorch (which is quite popular right now) have very similar syntax, and in fact PyTorch started as a fork from Chainer, reimplementing core functionality such as autograd in C++. This makes it faster, but less versatile. Google is developing and promoting the TensorFlow framework, which is fast for statically defined neural network flows. \n",
    "\n",
    "\n",
    "In this assignment you will follow a Chainer tutorial for implementing a standard multi-layer perceptron and a convolutional neural network. You will first copy the tutorial code and then make several adaptations. For a few steps you should consult the documentation or example code to check out how to implement them. "
   ]
  },
  {
   "cell_type": "markdown",
   "metadata": {},
   "source": [
    "### Exercise 1 (3 points)"
   ]
  },
  {
   "cell_type": "markdown",
   "metadata": {},
   "source": [
    "Read the tutorial at https://docs.chainer.org/en/stable/tutorial/basic.html. As you go along, transfer the code for the Multi-Layer Perceptron example on MNIST into the notebook (and try running it). Use the variant that makes use of the Trainer framework, i.e. you do not need to handle the gradients yourself. \n",
    "\n",
    "Change the MLP training code so that it is similar to the MLP we implemented in the MLP exercise, i.e. it should use: \n",
    "\n",
    "1. A single hidden layer of 16 units (that is, two weight layers)\n",
    "1. ReLU activation function\n",
    "1. Stochastic Gradient Descent with a learning rate of 0.001 as optimizer\n",
    "1. Training should do 50 iterations over the training set\n",
    "\n",
    "For **evaluating the model**, set up the `trainer` object as follows: \n",
    "1. When initializing the `trainer` object, set the output folder to be `mlp_output_folder`.\n",
    "1. Extend your `trainer` object with an `Evaluator` object that evaluates your `model` on the test set. \n",
    "1. Extend your `trainer` object with the `LogReport()` object. \n",
    "1. For printing the current model performance underneath the cell, extend the `trainer` object with a `PrintReport` object. Use the keys `\"epoch\"`, `\"main/accuracy\"`, `\"validation/main/accuracy\"`,  `\"main/loss\"` and `\"validation/main/loss\"`.\n",
    "1. For plotting the accuracy and losses over epochs, extend the `trainer` object with a `PlotReport` object. Use the same keys as for `PrintReport` except `\"epoch\"`. Set the file name to `mlp_plot.png`.\n",
    "\n",
    "Embed the generated `mlp_plot.png` underneath your code via `<img src='chainermlp/mlp_plot.png'>`. **Please additionally attach `mlp_plot.png` to your submission.**"
   ]
  },
  {
   "cell_type": "code",
   "execution_count": 3,
   "metadata": {},
   "outputs": [
    {
     "name": "stdout",
     "output_type": "stream",
     "text": [
      "('Shape of a single example:', (784L,))\n"
     ]
    }
   ],
   "source": [
    "# Load the MNIST data set as 784-length vectors (default): \n",
    "train, test = datasets.get_mnist()\n",
    "print(\"Shape of a single example:\", train[0][0].shape)"
   ]
  },
  {
   "cell_type": "markdown",
   "metadata": {},
   "source": [
    "### Solution 1"
   ]
  },
  {
   "cell_type": "code",
   "execution_count": 4,
   "metadata": {},
   "outputs": [
    {
     "name": "stdout",
     "output_type": "stream",
     "text": [
      "epoch       main/accuracy  validation/main/accuracy\n",
      "1           0.253          0.3807                    \n",
      "2           0.4667         0.545                     \n",
      "3           0.617833       0.6799                    \n",
      "4           0.722267       0.7577                    \n",
      "5           0.771433       0.7916                    \n",
      "6           0.795383       0.806                     \n",
      "7           0.810067       0.8219                    \n",
      "8           0.820817       0.831                     \n",
      "9           0.829233       0.8402                    \n",
      "10          0.836217       0.8458                    \n",
      "11          0.842483       0.8521                    \n",
      "12          0.847933       0.8566                    \n",
      "13          0.85195        0.8606                    \n",
      "14          0.85605        0.8634                    \n",
      "15          0.859517       0.8665                    \n",
      "16          0.862583       0.8684                    \n",
      "17          0.86515        0.8711                    \n",
      "18          0.867967       0.8739                    \n",
      "19          0.869867       0.8755                    \n",
      "20          0.872267       0.8774                    \n",
      "21          0.873767       0.8787                    \n",
      "22          0.875583       0.8797                    \n",
      "23          0.877          0.8815                    \n",
      "24          0.8787         0.8828                    \n",
      "25          0.879917       0.8841                    \n",
      "26          0.881283       0.8859                    \n",
      "27          0.8826         0.8872                    \n",
      "28          0.883167       0.8892                    \n",
      "29          0.884583       0.8895                    \n",
      "30          0.885717       0.8909                    \n",
      "31          0.8866         0.8915                    \n",
      "32          0.88765        0.893                     \n",
      "33          0.888433       0.8933                    \n",
      "34          0.889317       0.8938                    \n",
      "35          0.890133       0.8943                    \n",
      "36          0.891017       0.8952                    \n",
      "37          0.891817       0.896                     \n",
      "38          0.892467       0.8968                    \n",
      "39          0.893183       0.8975                    \n",
      "40          0.893983       0.8984                    \n",
      "41          0.8943         0.8987                    \n",
      "42          0.8949         0.8994                    \n",
      "43          0.895467       0.9002                    \n",
      "44          0.895983       0.9                       \n",
      "45          0.89635        0.9007                    \n",
      "46          0.8968         0.9015                    \n",
      "47          0.8975         0.9016                    \n",
      "48          0.897833       0.902                     \n",
      "49          0.898017       0.9032                    \n",
      "50          0.89875        0.9034                    \n"
     ]
    }
   ],
   "source": [
    "# Your MLP, including output\n",
    "class MLP(Chain):\n",
    "    def __init__(self, n_units, n_out):\n",
    "        super(MLP, self).__init__()\n",
    "        with self.init_scope():\n",
    "            self.l1 = L.Linear(None, n_units)\n",
    "            self.l2 = L.Linear(None, n_out)\n",
    "\n",
    "    def __call__(self, x):\n",
    "        h1 = F.relu(self.l1(x))\n",
    "        y = self.l2(h1)\n",
    "        return y\n",
    "    \n",
    "class Classifier(Chain):\n",
    "    def __init__(self, predictor):\n",
    "        super(Classifier, self).__init__()\n",
    "        with self.init_scope():\n",
    "            self.predictor = predictor\n",
    "\n",
    "    def __call__(self, x, t):\n",
    "        y = self.predictor(x)\n",
    "        loss = F.softmax_cross_entropy(y, t)\n",
    "        accuracy = F.accuracy(y, t)\n",
    "        report({'loss': loss, 'accuracy': accuracy}, self)\n",
    "        return loss\n",
    "    \n",
    "train_iter = iterators.SerialIterator(train, batch_size=100, shuffle=True)\n",
    "test_iter = iterators.SerialIterator(test, batch_size=100, repeat=False, shuffle=False)\n",
    "\n",
    "model = L.Classifier(MLP(16, 16))\n",
    "optimizer = optimizers.SGD(lr=0.001)\n",
    "optimizer.setup(model)\n",
    "\n",
    "updater = training.StandardUpdater(train_iter, optimizer)\n",
    "trainer = training.Trainer(updater, (50, 'epoch'), out='mlp_output_folder')\n",
    "\n",
    "trainer.extend(extensions.Evaluator(test_iter, model))\n",
    "trainer.extend(extensions.LogReport())\n",
    "trainer.extend(extensions.PrintReport(['epoch', 'main/accuracy', 'validation/main/accuracy']))\n",
    "trainer.extend(extensions.PlotReport(['main/loss', 'validation/main/loss'], file_name='mlp_plot.png'))\n",
    "\n",
    "trainer.run()"
   ]
  },
  {
   "cell_type": "markdown",
   "metadata": {
    "collapsed": true
   },
   "source": [
    "Embed `mlp_plot.png`: \n",
    "<img src='mlp_output_folder/mlp_plot.png'>"
   ]
  },
  {
   "cell_type": "markdown",
   "metadata": {},
   "source": [
    "### Exercise 2  (0.5 points)"
   ]
  },
  {
   "cell_type": "markdown",
   "metadata": {
    "collapsed": true
   },
   "source": [
    "The input layer weights that the MLP has learned can be found in `model.predictor.l1.W.data`. Plot them below (as we did in the MLP and autoencoder exercises). "
   ]
  },
  {
   "cell_type": "markdown",
   "metadata": {},
   "source": [
    "### Solution 2"
   ]
  },
  {
   "cell_type": "code",
   "execution_count": 7,
   "metadata": {},
   "outputs": [
    {
     "data": {
      "image/png": "[encoded data removed]",
      "text/plain": [
       "<Figure size 360x360 with 16 Axes>"
      ]
     },
     "metadata": {},
     "output_type": "display_data"
    },
    {
     "data": {
      "image/png": "[encoded data removed]",
      "text/plain": [
       "<Figure size 360x360 with 16 Axes>"
      ]
     },
     "metadata": {},
     "output_type": "display_data"
    }
   ],
   "source": [
    "# Plot the weights\n",
    "w1_hidden = model.predictor.l1.W.data.shape[0]\n",
    "w2_hidden = model.predictor.l2.W.data.T.shape[0]\n",
    "\n",
    "plt.figure(figsize=([5, 5]))\n",
    "for i in range(w1_hidden):\n",
    "        plt.subplot(4, 4, i + 1)\n",
    "        fig = plt.imshow(model.predictor.l1.W.data[i, :].reshape([28, 28]), cmap = 'gray')\n",
    "        fig.axes.get_xaxis().set_visible(False)\n",
    "        fig.axes.get_yaxis().set_visible(False)\n",
    "\n",
    "plt.figure(figsize=([5, 5]))\n",
    "for i in range(w2_hidden):\n",
    "        plt.subplot(4, 4, i + 1)\n",
    "        fig = plt.imshow(model.predictor.l2.W.data.T[:, i].reshape([4, 4]), cmap = 'gray')\n",
    "        fig.axes.get_xaxis().set_visible(False)\n",
    "        fig.axes.get_yaxis().set_visible(False)"
   ]
  },
  {
   "cell_type": "markdown",
   "metadata": {},
   "source": [
    "### Exercise 3: Convolution with hand-made kernels (1 point)\n",
    "In convolutional neural networks we use a mathematical operator between two functions $f$ and $g$ called [*convolution*](https://en.wikipedia.org/wiki/Convolution). In terms of images, one could intuitively think of $f$ as an image, and $g$ as a filter kernel (i.e., a receptive field). For images we need to use 2D convolution: \n",
    "\n",
    "$$f(x, y) \\ast g(x, y) = \\sum^N_{i=-N}\\sum^N_{j=-N} f(x, y)g(x-i, y-j)$$\n",
    "\n",
    "Intuitively, the kernel $g$ is applied on all spatial locations of $f$. You could think of $g$ as having weights that represent how it singles out local input. Usually there are various of these filter kernels $g$, scanning the image for many possible features. \n",
    "\n",
    "In this exercise you will perform a simple convolution on an image. We first choose an image: "
   ]
  },
  {
   "cell_type": "code",
   "execution_count": 6,
   "metadata": {},
   "outputs": [
    {
     "data": {
      "text/plain": [
       "[]"
      ]
     },
     "execution_count": 6,
     "metadata": {},
     "output_type": "execute_result"
    },
    {
     "data": {
      "image/png": "[encoded data removed]",
      "text/plain": [
       "<Figure size 288x288 with 1 Axes>"
      ]
     },
     "metadata": {},
     "output_type": "display_data"
    }
   ],
   "source": [
    "image = train[2][0].reshape((28, 28))\n",
    "\n",
    "fig, ax = plt.subplots(1, 1, figsize=(4, 4))\n",
    "ax.imshow(image, cmap=\"gray\")\n",
    "ax.set_xticks([], []) ; ax.set_yticks([], [])"
   ]
  },
  {
   "cell_type": "markdown",
   "metadata": {},
   "source": [
    "1. Make four $3 \\times 3$ kernels. They should represent horizontal, vertical, and the two diagonal line feature detectors.\n",
    "1. Plot these kernels.\n",
    "1. Apply the kernels to the image, e.g. by using `convolved2d` from `scipy`.\n",
    "1. Plot the resulting feature activity map for each of the kernels. "
   ]
  },
  {
   "cell_type": "markdown",
   "metadata": {},
   "source": [
    "### Solution 3"
   ]
  },
  {
   "cell_type": "code",
   "execution_count": 8,
   "metadata": {},
   "outputs": [
    {
     "data": {
      "text/plain": [
       "<matplotlib.image.AxesImage at 0x20535358>"
      ]
     },
     "execution_count": 8,
     "metadata": {},
     "output_type": "execute_result"
    },
    {
     "data": {
      "image/png": "[encoded data removed]",
      "text/plain": [
       "<Figure size 288x288 with 1 Axes>"
      ]
     },
     "metadata": {},
     "output_type": "display_data"
    },
    {
     "data": {
      "image/png": "[encoded data removed]",
      "text/plain": [
       "<Figure size 288x288 with 1 Axes>"
      ]
     },
     "metadata": {},
     "output_type": "display_data"
    },
    {
     "data": {
      "image/png": "[encoded data removed]",
      "text/plain": [
       "<Figure size 288x288 with 1 Axes>"
      ]
     },
     "metadata": {},
     "output_type": "display_data"
    },
    {
     "data": {
      "image/png": "[encoded data removed]",
      "text/plain": [
       "<Figure size 288x288 with 1 Axes>"
      ]
     },
     "metadata": {},
     "output_type": "display_data"
    },
    {
     "data": {
      "image/png": "[encoded data removed]",
      "text/plain": [
       "<Figure size 288x288 with 1 Axes>"
      ]
     },
     "metadata": {},
     "output_type": "display_data"
    },
    {
     "data": {
      "image/png": "[encoded data removed]",
      "text/plain": [
       "<Figure size 288x288 with 1 Axes>"
      ]
     },
     "metadata": {},
     "output_type": "display_data"
    },
    {
     "data": {
      "image/png": "[encoded data removed]",
      "text/plain": [
       "<Figure size 288x288 with 1 Axes>"
      ]
     },
     "metadata": {},
     "output_type": "display_data"
    },
    {
     "data": {
      "image/png": "[encoded data removed]",
      "text/plain": [
       "<Figure size 288x288 with 1 Axes>"
      ]
     },
     "metadata": {},
     "output_type": "display_data"
    }
   ],
   "source": [
    "# 1. Create kernels\n",
    "kernel_hor = [[-1.0, -1.0, -1.0], \n",
    "              [2.0,   2.0,  2.0], \n",
    "              [-1.0, -1.0, -1.0]]\n",
    "    \n",
    "kernel_vert = [[-1.0, 2.0, -1.0], \n",
    "               [-1.0, 2.0, -1.0], \n",
    "               [-1.0, 2.0, -1.0]]\n",
    "\n",
    "kernel_dia_tl = [[2.0, -1.0, -1.0], \n",
    "                 [-1.0, 2.0, -1.0], \n",
    "                 [-1.0, -1.0, 2.0]]\n",
    "\n",
    "kernel_dia_tr = [[-1.0, -1.0, 2.0], \n",
    "                 [-1.0, 2.0, -1.0], \n",
    "                 [2.0, -1.0, -1.0]]\n",
    "\n",
    "\n",
    "# 2. Plot kernels\n",
    "plt.matshow(kernel_hor)\n",
    "plt.matshow(kernel_vert)\n",
    "plt.matshow(kernel_dia_tl)\n",
    "plt.matshow(kernel_dia_tr)\n",
    "\n",
    "# 3. Convolve the image with the kernels\n",
    "grad_hor = ss.convolve2d(image, kernel_hor)\n",
    "grad_vert = ss.convolve2d(image, kernel_vert)\n",
    "grad_dia_tl = ss.convolve2d(image, kernel_dia_tl)\n",
    "grad_dia_tr = ss.convolve2d(image, kernel_dia_tr)\n",
    "\n",
    "# 4. Plot the activity maps\n",
    "plt.matshow(grad_hor)\n",
    "plt.matshow(grad_vert)\n",
    "plt.matshow(grad_dia_tl)\n",
    "plt.matshow(grad_dia_tr)\n"
   ]
  },
  {
   "cell_type": "markdown",
   "metadata": {
    "collapsed": true
   },
   "source": [
    "### Exercise 4 (3 points)"
   ]
  },
  {
   "cell_type": "markdown",
   "metadata": {
    "collapsed": true
   },
   "source": [
    "We want to train a convolutional neural network (CNN) next. Check [this project](https://github.com/vdumoulin/conv_arithmetic) to get intuition for the operations in convolutional neural network layers. \n",
    "\n",
    "\n",
    "1. Create `class CNN(Chain)` that should contain the new model. It will be similar to the `MLP` class, so you can start by copying the code of the MLP model class. \n",
    "1. The network should have one [2D-convolutional layer](https://docs.chainer.org/en/stable/reference/links.html). The first layer `conv1` should have 4x4 kernels, a stride of 1 and 10 output channels. As in the MLP, a second `Linear` layer should connect with the output units. \n",
    "1. Use ReLU activation functions on the convolutional layer activation.\n",
    "1. Add 2D max-pooling with a `(2,2)` pooling window after the convolutional layer. \n",
    "1. Copy the rest of the training code underneath and adapt it so that it uses your `CNN` model. Change the plot file name to `cnn_plot.png`. Run the model for 30 full iterations through the training set and embed `cnn_plot.png` as before. The output directory should be `cnn_output_folder` now. **Please additionally attach `cnn_plot.png` to your submission.**\n",
    "\n",
    "This will take a while to run. You can test the code by reducing the number of output channels of `conv1` first.  Usually you would train ConvNets on GPUs, which implement many of the linear algebra operations that are used here much more efficiently. "
   ]
  },
  {
   "cell_type": "code",
   "execution_count": 9,
   "metadata": {},
   "outputs": [
    {
     "name": "stdout",
     "output_type": "stream",
     "text": [
      "Shape of a single example: (1L, 28L, 28L)\n"
     ]
    }
   ],
   "source": [
    "# Load the MNIST data set in shape 1x28x28-length (the 2D shape is necessary for the convolutional layer): \n",
    "train, test = datasets.get_mnist(ndim=3)\n",
    "print \"Shape of a single example:\", train[0][0].shape"
   ]
  },
  {
   "cell_type": "markdown",
   "metadata": {},
   "source": [
    "### Solution 4"
   ]
  },
  {
   "cell_type": "code",
   "execution_count": 10,
   "metadata": {},
   "outputs": [
    {
     "name": "stdout",
     "output_type": "stream",
     "text": [
      "epoch       main/accuracy  validation/main/accuracy\n",
      "1           0.59835        0.8017                    \n",
      "2           0.8236         0.8533                    \n",
      "3           0.852917       0.8745                    \n",
      "4           0.868217       0.8837                    \n",
      "5           0.876767       0.8899                    \n",
      "6           0.882317       0.8954                    \n",
      "7           0.887017       0.8998                    \n",
      "8           0.891217       0.9022                    \n",
      "9           0.8943         0.9052                    \n",
      "10          0.896833       0.9071                    \n",
      "11          0.8986         0.9092                    \n",
      "12          0.9004         0.9112                    \n",
      "13          0.902133       0.9117                    \n",
      "14          0.903633       0.9117                    \n",
      "15          0.90465        0.9141                    \n",
      "16          0.906367       0.9154                    \n",
      "17          0.907217       0.9155                    \n",
      "18          0.908317       0.9165                    \n",
      "19          0.909067       0.9169                    \n",
      "20          0.909817       0.9173                    \n",
      "21          0.91095        0.9175                    \n",
      "22          0.911533       0.919                     \n",
      "23          0.9124         0.9196                    \n",
      "24          0.9131         0.9205                    \n",
      "25          0.914          0.9213                    \n",
      "26          0.914617       0.9219                    \n",
      "27          0.915583       0.9219                    \n",
      "28          0.916167       0.9213                    \n",
      "29          0.9162         0.9218                    \n",
      "30          0.917567       0.9233                    \n"
     ]
    }
   ],
   "source": [
    "# Your CNN, including output\n",
    "class CNN(Chain):\n",
    "    def __init__(self, n_units, n_out):\n",
    "        super(CNN, self).__init__()\n",
    "        with self.init_scope():\n",
    "            self.conv1 = L.Convolution2D(in_channels = None, out_channels = n_out, ksize = 4, stride = 1)\n",
    "            self.l2 = L.Linear(None, n_out)\n",
    "\n",
    "    def __call__(self, x):\n",
    "        h1_relu = F.relu(self.conv1(x))\n",
    "        h1 = F.max_pooling_2d(h1_relu, 2)\n",
    "        y = self.l2(h1)\n",
    "        return y\n",
    "    \n",
    "class Classifier(Chain):\n",
    "    def __init__(self, predictor):\n",
    "        super(Classifier, self).__init__()\n",
    "        with self.init_scope():\n",
    "            self.predictor = predictor\n",
    "\n",
    "    def __call__(self, x, t):\n",
    "        y = self.predictor(x)\n",
    "        loss = F.softmax_cross_entropy(y, t)\n",
    "        accuracy = F.accuracy(y, t)\n",
    "        report({'loss': loss, 'accuracy': accuracy}, self)\n",
    "        return loss\n",
    "    \n",
    "train_iter = iterators.SerialIterator(train, batch_size=100, shuffle=True)\n",
    "test_iter = iterators.SerialIterator(test, batch_size=100, repeat=False, shuffle=False)\n",
    "\n",
    "model = L.Classifier(CNN(4, 10))\n",
    "optimizer = optimizers.SGD(lr=0.001)\n",
    "optimizer.setup(model)\n",
    "\n",
    "updater = training.StandardUpdater(train_iter, optimizer)\n",
    "trainer = training.Trainer(updater, (30, 'epoch'), out='cnn_output_folder')\n",
    "\n",
    "trainer.extend(extensions.Evaluator(test_iter, model))\n",
    "trainer.extend(extensions.LogReport())\n",
    "trainer.extend(extensions.PrintReport(['epoch', 'main/accuracy', 'validation/main/accuracy']))\n",
    "trainer.extend(extensions.PlotReport(['main/loss', 'validation/main/loss'], file_name='cnn_plot.png'))\n",
    "\n",
    "trainer.run()"
   ]
  },
  {
   "cell_type": "markdown",
   "metadata": {},
   "source": [
    "Embed `cnn_plot.png`:\n",
    "<img src='cnn_output_folder/cnn_plot.png'>"
   ]
  },
  {
   "cell_type": "markdown",
   "metadata": {},
   "source": [
    "### Exercise 5 (0.5 points)\n",
    "The input layer weights that the ConvNet has learned can be found in `model.predictor.conv1.W.data`. Plot them below (as we did in the MLP and autoencoder exercises)."
   ]
  },
  {
   "cell_type": "markdown",
   "metadata": {},
   "source": [
    "### Solution 5"
   ]
  },
  {
   "cell_type": "code",
   "execution_count": 10,
   "metadata": {},
   "outputs": [
    {
     "data": {
      "image/png": "[encoded data removed]",
      "text/plain": [
       "<Figure size 360x360 with 10 Axes>"
      ]
     },
     "metadata": {},
     "output_type": "display_data"
    }
   ],
   "source": [
    "# Plot the weights\n",
    "w1_hidden = model.predictor.conv1.W.data.shape[0]\n",
    "\n",
    "plt.figure(figsize=([5,5]))\n",
    "for i in range(w1_hidden):\n",
    "        plt.subplot(5, 5, i + 1)\n",
    "        fig = plt.imshow(model.predictor.conv1.W.data[i, :].reshape([4, 4]), cmap = 'gray')\n",
    "        fig.axes.get_xaxis().set_visible(False)\n",
    "        fig.axes.get_yaxis().set_visible(False)"
   ]
  },
  {
   "cell_type": "markdown",
   "metadata": {},
   "source": [
    "### Exercise 6 (2 points)\n",
    "1. Which of the two models performed better for classifying MNIST digits in this example? Compare speed of training and test set accuracy. \n",
    "\n",
    "1. The main difference of the models is the type of the first layer. What leads to the success of the first layer of the better-performing model? \n",
    "\n",
    "1. Explain ways in which the convolution operation and the resulting feature maps are biologically plausible (1 way) and biologically implausible (1 way). "
   ]
  },
  {
   "cell_type": "markdown",
   "metadata": {
    "collapsed": true
   },
   "source": [
    "### Solution 6\n",
    "1. The first model completed a training run much faster than the second one. But accuracy wise the second model is vastly superior, achieving an entropy loss of 0.4 after 5000 iterations, compared to the first model that only got close to 0.4 after 30000 iterations.\n",
    "1. Using convolution, a weight layer can be updated more accurately. This is done by taking the weights as a result of both the image and the receptive field. This results in a more accurate representation but also in more computational load.\n",
    "1. I don't understand the concept of convolution well enough to be able to answer that question."
   ]
  },
  {
   "cell_type": "markdown",
   "metadata": {},
   "source": [
    "You can play around further with your code for this assignment by replacing the MNIST dataset with a more interesting / difficult to solve data set. For instance, you could use: \n",
    "\n",
    "`chainer.datasets.get_cifar10()`  ([CIFAR-10](https://www.cs.toronto.edu/~kriz/cifar.html) - photos of 10 natural object classes)\n",
    "\n",
    "and \n",
    "\n",
    "`chainer.datasets.get_svhn()`  ([SVHN](http://ufldl.stanford.edu/housenumbers/) - house numbers from Google StreetView)"
   ]
  },
  {
   "cell_type": "code",
   "execution_count": null,
   "metadata": {},
   "outputs": [],
   "source": []
  }
 ],
 "metadata": {
  "anaconda-cloud": {},
  "kernelspec": {
   "display_name": "Python 2",
   "language": "python",
   "name": "python2"
  },
  "language_info": {
   "codemirror_mode": {
    "name": "ipython",
    "version": 2
   },
   "file_extension": ".py",
   "mimetype": "text/x-python",
   "name": "python",
   "nbconvert_exporter": "python",
   "pygments_lexer": "ipython2",
   "version": "2.7.14"
  }
 },
 "nbformat": 4,
 "nbformat_minor": 1
}
