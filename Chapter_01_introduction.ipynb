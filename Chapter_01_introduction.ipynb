{
 "cells": [
  {
   "cell_type": "markdown",
   "metadata": {},
   "source": [
    "# Chapter 1\n",
    "## Introduction\n",
    "\n",
    "\n",
    "    Hand-in bug-free (try \"Kernel\" > \"Restart & Run All\") and including all (textual as well as figural) output via Blackboard before the deadline (see Blackboard).\n",
    "    \n",
    "Learning goals:\n",
    "1. Brush up basics of vectors and matrices\n",
    "2. Get familiar with python\n",
    "3. Get familiar with activation functions"
   ]
  },
  {
   "cell_type": "code",
   "execution_count": null,
   "metadata": {
    "collapsed": true
   },
   "outputs": [],
   "source": [
    "%matplotlib inline\n",
    "import matplotlib.pyplot as plt\n",
    "import numpy as np"
   ]
  },
  {
   "cell_type": "markdown",
   "metadata": {},
   "source": [
    "For exercises 1-6 you do not need to write any Python code, but you might find calculating the exercises with Python useful for practice. \n",
    "\n",
    "For exercises 7-10 (and for all future assignments), make sure that your plots are shown *in* the notebook when we open it; which you can achieve by saving the notebook when all plots are open and sending in this version. \n",
    "\n",
    "As mentioned in the course reader, in every assignment we will check whether your notebook code runs through without errors with the Cell->Run All command. You risk not receiving any points if this fails. We will not debug your code. Be sure to restart the notebook kernel from time to time (Kernel->Restart) and before submitting to notice it if you use old variable or function names that are still defined in the notebook kernel, but not anymore in the code. \n",
    "\n",
    "A useful reference for linear algebra is [**The Matrix Cookbook**](http://www2.imm.dtu.dk/pubdb/views/publication_details.php?id=3274). A good overview for partial derivatives is [Khan Academy: Partial Derivatives](https://www.khanacademy.org/math/multivariable-calculus/multivariable-derivatives/partial-derivatives-and-the-gradient/a/introduction-to-partial-derivatives)."
   ]
  },
  {
   "cell_type": "markdown",
   "metadata": {
    "collapsed": true
   },
   "source": [
    "### Exercise 1: Vector operations (1 point)\n",
    "Let's look at vectors. Work out this assignment by hand and write down your solution in markdown with LaTeX.\n",
    "\n",
    "Let $\\mathbf{x} = (1,2)^T$ and $\\mathbf{y} = (-1,1)^T$\n",
    "\n",
    "1. How much is $10\\mathbf{x}$?\n",
    "1. What is the length (norm) of the vector $\\mathbf{x}$? Briefly show how to calculate the solution. \n",
    "1. How much is $\\mathbf{x}^T\\mathbf{y}$?\n",
    "1. What is the angle between $\\mathbf{x}$ and $\\mathbf{y}$ in degrees? Briefly show how to calculate the solution. "
   ]
  },
  {
   "cell_type": "markdown",
   "metadata": {},
   "source": [
    "### Solution 1\n",
    "1.  \n",
    "$$\n",
    "\\begin{pmatrix}\n",
    "    10\\\\\n",
    "    20\n",
    "\\end{pmatrix}\n",
    "$$$$$$\n",
    "1.  \n",
    "$$\n",
    "||x|| = \\sqrt{1^2 + 2^2} = \\sqrt{5}\n",
    "$$$$$$\n",
    "1.  \n",
    "$$\n",
    "(1,2)\\cdot\n",
    "\\begin{pmatrix}\n",
    "    -1\\\\\n",
    "     1\n",
    "\\end{pmatrix}\n",
    "= 1\\cdot -1 + 2 \\cdot 1 = 1\n",
    "$$$$$$\n",
    "1.  \n",
    "$$\n",
    "cos(\\alpha) = \\frac{\\bar{x}\\cdot\\bar{y}}\n",
    "{|\\bar{x}|\\cdot|\\bar{y}|} =\n",
    "\\frac{1\\cdot -1 + 2\\cdot 1}{\\sqrt{1^2+2^2}\\cdot \\sqrt{-1^2 + 1^2}} = \n",
    "\\frac{1}{\\sqrt{5} \\cdot \\sqrt{2}} = \\frac{1}{\\sqrt{10}}\n",
    "$$$$\n",
    "arccos(cos(\\alpha)) = \\alpha \\approx 71.62\\; degrees\n",
    "$$"
   ]
  },
  {
   "cell_type": "markdown",
   "metadata": {},
   "source": [
    "### Exercise 2: Vectors and matrices (1 point)\n",
    "Let's look at vectors and matrices. Work out this assignment by hand and write down your solution in markdown using LaTeX. \n",
    "\n",
    "Let $\\mathbf{x} = (1,2)^T$ and $\\mathbf{A} = \n",
    "\\left(\n",
    "\\begin{array}{cc}\n",
    "1 & 2 \\\\\n",
    "3 & 4\n",
    "\\end{array}\n",
    "\\right)\n",
    "$.\n",
    "\n",
    "1. Can we compute $\\mathbf{x}\\mathbf{A}$? Why can, or why can't we?\n",
    "1. How much is $\\mathbf{A}\\mathbf{x}$?"
   ]
  },
  {
   "cell_type": "markdown",
   "metadata": {},
   "source": [
    "### Solution 2\n",
    "1. No, the number of columns of $\\bf{x}$ (1) isn't equal to the number of rows of $\\bf{A}$ (2)\n",
    "1. $\\mathbf{Ax} =\n",
    "\\begin{pmatrix}\n",
    "    5\\\\\n",
    "    11\n",
    "\\end{pmatrix}$"
   ]
  },
  {
   "cell_type": "markdown",
   "metadata": {},
   "source": [
    "### Exercise 3: Matrices (1 point)\n",
    "Let's look at matrices. Work out this assignment by hand and write down your solution in markdown with LaTeX equations. \n",
    "\n",
    "Let $\\mathbf{A} = \n",
    "\\left(\n",
    "\\begin{array}{cc}\n",
    "1 & 2 \\\\\n",
    "3 & 4\n",
    "\\end{array}\n",
    "\\right)\n",
    "$ and $\\mathbf{B} = \n",
    "\\left(\n",
    "\\begin{array}{cc}\n",
    "5 & 6 \\\\\n",
    "7 & 8\n",
    "\\end{array}\n",
    "\\right)\n",
    "$.\n",
    "\n",
    "1. How much is $AB$?\n",
    "1. How much is $BA$?"
   ]
  },
  {
   "cell_type": "markdown",
   "metadata": {},
   "source": [
    "### Solution 3\n",
    "1. \n",
    "$$\n",
    "    \\mathbf{AB} =\n",
    "    \\begin{pmatrix}\n",
    "        19 & 22 \\\\\n",
    "        43 & 50\n",
    "    \\end{pmatrix}\n",
    "$$$$$$\n",
    "1.  \n",
    "$$\n",
    "    \\mathbf{BA} =\n",
    "    \\begin{pmatrix}\n",
    "        23 & 34 \\\\\n",
    "        31 & 46\n",
    "    \\end{pmatrix}\n",
    "$$"
   ]
  },
  {
   "cell_type": "markdown",
   "metadata": {},
   "source": [
    "### Exercise 4: Partial derivatives (1 point)\n",
    "\n",
    "Let's brush up on partial derivatives. \n",
    "\n",
    "Let $\\mathbf{x} = (x_1,\\ldots,x_i,\\ldots,x_n)^T$ (a vector) and $f(\\mathbf{x}) = \\mathbf{x}^T\\mathbf{x}$. Write down the expression for the partial derivative $\\frac{\\partial f}{\\partial x_i}$. Briefly explain how you arrived at the result. \n",
    "\n",
    "Hint: How would the function $f(\\mathbf{x})$ look like if it was written with the vector scalars $x_i$ instead of the vector $\\mathbf{x}$?"
   ]
  },
  {
   "cell_type": "markdown",
   "metadata": {},
   "source": [
    "### Solution 4\n",
    "\n",
    "$$\n",
    "f(\\mathbf{x}) = \\mathbf{x}^T\\mathbf{x} = x_1^2 + ... + x_i^2 + ... + x_n^2\n",
    "$$\n",
    "$$\n",
    "f'(\\mathbf{x}) = 2x_1 + ... + 2x_i + ... + 2x_n\n",
    "$$\n",
    "Multiplying the vector $\\mathbf{x}$ by the transpose of itself results in a polynomial function. The derivative of the polynomial function can easily be determined by changing every element $x^n$ into $nx^{n-1}$"
   ]
  },
  {
   "cell_type": "markdown",
   "metadata": {},
   "source": [
    "### Exercise 5: Gradients (1 point)\n",
    "Often, we need to compute the gradient of a particular function. Given a function $f(x_1,\\ldots,x_n)$, the gradient is just a collection of partial derivatives:\n",
    "\\begin{equation*}\n",
    "\\nabla f = \\left(\\frac{\\partial f}{\\partial x_1}, \\ldots,\\frac{\\partial f}{\\partial x_n}\\right) \\,.\n",
    "\\end{equation*}\n",
    "\n",
    "Let $f(x,y) = - (\\cos^2 x + \\cos^2 y)^2$. \n",
    "\n",
    "Derive the gradient $\\nabla f = \\left(\\frac{\\partial f}{\\partial x},\\frac{\\partial f}{\\partial y}\\right)$."
   ]
  },
  {
   "cell_type": "markdown",
   "metadata": {},
   "source": [
    "### Solution 5\n",
    "\n",
    "$$\n",
    "\\frac{\\delta f}{\\delta x} = -2(cos^2(x) + cos^2(y)) \\cdot (-sin(x)cos(x) -sin(x)cos(x))\n",
    "$$\n",
    "$$\n",
    "= -2(cos^2(x) + cos^2(y)) \\cdot -2sin(x)cos(x)\n",
    "$$\n",
    "$$$$\n",
    "$$\n",
    "\\frac{\\delta f}{\\delta y} = -2(cos^2(x) + cos^2(y)) \\cdot -2sin(y)cos(y)\n",
    "$$\n",
    "$$$$\n",
    "$$$$\n",
    "$$\n",
    "\\nabla f = (\\;-2(cos^2(x) + cos^2(y)) \\cdot -2sin(x)cos(x)\\;,\\;\\; -2(cos^2(x) + cos^2(y)) \\cdot -2sin(y)cos(y)\\;)\n",
    "$$"
   ]
  },
  {
   "cell_type": "markdown",
   "metadata": {},
   "source": [
    "### Exercise 6: Linear activation function (1 point)\n",
    "Write a function that computes the *linear activation function* (trivial identity) for any given input, and plot it over the input range  $x \\in [-10,10]$. Don't forget to add sensible labels to the axes. "
   ]
  },
  {
   "cell_type": "markdown",
   "metadata": {},
   "source": [
    "### Solution 6"
   ]
  },
  {
   "cell_type": "code",
   "execution_count": 7,
   "metadata": {},
   "outputs": [
    {
     "data": {
      "image/png": "[encoded data removed]",
      "text/plain": [
       "<matplotlib.figure.Figure at 0x9b21518>"
      ]
     },
     "metadata": {},
     "output_type": "display_data"
    }
   ],
   "source": [
    "import matplotlib.pyplot as plt\n",
    "import numpy as np\n",
    "\n",
    "def LAF (x):\n",
    "    return x\n",
    "\n",
    "params = range(-10, 11)\n",
    "plt.plot(params, [LAF(x) for x in params])\n",
    "plt.xlabel('x')\n",
    "plt.ylabel('LAF(x)')\n",
    "plt.show()"
   ]
  },
  {
   "cell_type": "markdown",
   "metadata": {},
   "source": [
    "### Exercise 7: Linear threshold activation function (1 point)\n",
    "Write a function that computes the *linear threshold activation function* (also known as step activation function) for any given input, and plot it over the input range $x \\in [-10,10]$. Don't forget to add sensible labels to the axes. "
   ]
  },
  {
   "cell_type": "markdown",
   "metadata": {},
   "source": [
    "### Solution 7"
   ]
  },
  {
   "cell_type": "code",
   "execution_count": 6,
   "metadata": {},
   "outputs": [
    {
     "data": {
      "image/png": "[encoded data removed]",
      "text/plain": [
       "<matplotlib.figure.Figure at 0x9b8e1d0>"
      ]
     },
     "metadata": {},
     "output_type": "display_data"
    }
   ],
   "source": [
    "theta = 0.5\n",
    "\n",
    "def LTAF (x):\n",
    "    if(x >= theta):\n",
    "        return 1\n",
    "    else:\n",
    "        return 0\n",
    "\n",
    "params = range(-10, 11)\n",
    "plt.plot(params, [LTAF(x) for x in params])\n",
    "plt.xlabel('x')\n",
    "plt.ylabel('LTAF(x)')\n",
    "plt.show()"
   ]
  },
  {
   "cell_type": "markdown",
   "metadata": {},
   "source": [
    "### Exercise 8: Sigmoid activation function (1 point)\n",
    "Write a function that computes the *sigmoid activation function* for any given input, and plot it over the input range $x \\in [-10,10]$. Don't forget to add sensible labels to the axes. "
   ]
  },
  {
   "cell_type": "markdown",
   "metadata": {},
   "source": [
    "### Solution 8"
   ]
  },
  {
   "cell_type": "code",
   "execution_count": 12,
   "metadata": {},
   "outputs": [
    {
     "data": {
      "image/png": "[encoded data removed]",
      "text/plain": [
       "<matplotlib.figure.Figure at 0x981f8d0>"
      ]
     },
     "metadata": {},
     "output_type": "display_data"
    }
   ],
   "source": [
    "def sigmoid (x):\n",
    "    return 1 / (1 + np.exp(-x))\n",
    "\n",
    "params = range(-10, 11)\n",
    "plt.plot(params, [sigmoid(x) for x in params])\n",
    "plt.xlabel('x')\n",
    "plt.ylabel('sigmoid(x)')\n",
    "plt.show()"
   ]
  },
  {
   "cell_type": "markdown",
   "metadata": {},
   "source": [
    "### Exercise 9: Inner products (1 point)\n",
    "\n",
    "**1.** The input of the activation function in a simple perceptron (or any regular neural network neuron) is calculated as a weighted sum between each input value $x_i$ and each corresponding weight $w_i$, that is: $\\sum_{i=1}^m w_i x_i $.\n",
    "\n",
    "Calculate the input of the activation function for the given input values ```x_inputs``` and weight values ```weights``` **in a for-loop**. "
   ]
  },
  {
   "cell_type": "markdown",
   "metadata": {
    "collapsed": true
   },
   "source": [
    "### Solution 9.1"
   ]
  },
  {
   "cell_type": "code",
   "execution_count": 13,
   "metadata": {},
   "outputs": [
    {
     "name": "stdout",
     "output_type": "stream",
     "text": [
      "Shape of inputs:  (3L,)\n",
      "Shape of weights:  (3L,)\n",
      "The input of the activation function is: 4.0\n"
     ]
    }
   ],
   "source": [
    "x_inputs = np.array([4.0,2.0,3.0])\n",
    "weights  = np.array([0.7,0.3,0.2])\n",
    "\n",
    "print \"Shape of inputs: \", x_inputs.shape\n",
    "print \"Shape of weights: \", weights.shape\n",
    "\n",
    "activation_input = 0.0\n",
    "\n",
    "for i in range(0, 3):\n",
    "    activation_input = activation_input + (x_inputs[i] * weights[i])\n",
    "\n",
    "print \"The input of the activation function is:\", activation_input"
   ]
  },
  {
   "cell_type": "markdown",
   "metadata": {},
   "source": [
    "**2.** For-loops tend to be slow. There is a direct mathematical operation that expresses the same as our weighted sum above. This operation is also efficiently implemented as a ```numpy``` function. \n",
    "\n",
    "How is the operation called? Use the corresponding ```numpy``` function to calculate ```activation_input``` in one line without a for-loop.\n",
    "\n",
    "Hint: $\\sum_{i=1}^m w_i x_i = \\mathbf{w}^\\top \\mathbf{x}$ "
   ]
  },
  {
   "cell_type": "markdown",
   "metadata": {},
   "source": [
    "### Solution 9.2"
   ]
  },
  {
   "cell_type": "code",
   "execution_count": 14,
   "metadata": {},
   "outputs": [
    {
     "name": "stdout",
     "output_type": "stream",
     "text": [
      "Shape of inputs:  (3L,)\n",
      "Shape of weights:  (3L,)\n",
      "The input of the activation function is: 4.0\n"
     ]
    }
   ],
   "source": [
    "x_inputs = np.array([4.0,2.0,3.0])\n",
    "weights  = np.array([0.7,0.3,0.2])\n",
    "\n",
    "print \"Shape of inputs: \", x_inputs.shape\n",
    "print \"Shape of weights: \", weights.shape\n",
    "\n",
    "activation_input = np.dot(np.transpose(weights),x_inputs)\n",
    "\n",
    "print \"The input of the activation function is:\", activation_input"
   ]
  },
  {
   "cell_type": "markdown",
   "metadata": {},
   "source": [
    "### Exercise 10: Inner products (1 point)"
   ]
  },
  {
   "cell_type": "markdown",
   "metadata": {},
   "source": [
    "**1.** When implementing a full neural network we will have multiple $h_n$ hidden units (think $h_n$ individual perceptrons). In a multi-layer perceptron (a simple fully connected neural network), every hidden unit $h_i$ is connected to all of the $m$ input units, leading to $m \\times h_n$ weights in total. Again, first implement this in a for-loop. In the example below `weights` represents the weights for 4 hidden units. "
   ]
  },
  {
   "cell_type": "markdown",
   "metadata": {},
   "source": [
    "### Solution 10.1"
   ]
  },
  {
   "cell_type": "code",
   "execution_count": 15,
   "metadata": {},
   "outputs": [
    {
     "name": "stdout",
     "output_type": "stream",
     "text": [
      "Shape of inputs:  (3L,)\n",
      "Shape of weights:  (4L, 3L)\n",
      "The inputs of the activation functions for the hidden units are: [ 4.   -0.38 -9.4   0.98]\n"
     ]
    }
   ],
   "source": [
    "x_inputs = np.array([4.0,2.0,3.0])\n",
    "weights  = np.array([[0.7,0.3,0.2], \n",
    "                     [-0.23,0.42,-0.1], \n",
    "                     [-1.5,-2.3,0.4], \n",
    "                     [0.83,-0.12,-0.7]])\n",
    "\n",
    "print \"Shape of inputs: \", x_inputs.shape\n",
    "print \"Shape of weights: \", weights.shape\n",
    "\n",
    "activation_inputs = np.zeros([weights.shape[0],])\n",
    "\n",
    "for i in range (0,4):\n",
    "    for j in range (0,3):\n",
    "        activation_inputs[i] = activation_inputs[i] + (x_inputs[j] * weights[i,j])\n",
    "    \n",
    "\n",
    "print \"The inputs of the activation functions for the hidden units are:\", activation_inputs"
   ]
  },
  {
   "cell_type": "markdown",
   "metadata": {},
   "source": [
    "**2.** Now implement the same with the operation you found before."
   ]
  },
  {
   "cell_type": "markdown",
   "metadata": {},
   "source": [
    "### Solution 10.2"
   ]
  },
  {
   "cell_type": "code",
   "execution_count": 16,
   "metadata": {},
   "outputs": [
    {
     "name": "stdout",
     "output_type": "stream",
     "text": [
      "Shape of inputs:  (3L,)\n",
      "Shape of weights:  (4L, 3L)\n",
      "The inputs of the activation functions for the hidden units are: [ 4.   -0.38 -9.4   0.98]\n"
     ]
    }
   ],
   "source": [
    "x_inputs = np.array([4.0,2.0,3.0])\n",
    "weights  = np.array([[0.7,0.3,0.2], \n",
    "                     [-0.23,0.42,-0.1], \n",
    "                     [-1.5,-2.3,0.4], \n",
    "                     [0.83,-0.12,-0.7]])\n",
    "\n",
    "print \"Shape of inputs: \", x_inputs.shape\n",
    "print \"Shape of weights: \", weights.shape\n",
    "\n",
    "activation_inputs = np.zeros([weights.shape[0],])\n",
    "\n",
    "activation_inputs = np.dot(weights,np.transpose(x_inputs))\n",
    "\n",
    "print \"The inputs of the activation functions for the hidden units are:\", activation_inputs"
   ]
  },
  {
   "cell_type": "markdown",
   "metadata": {},
   "source": [
    "**3.** Usually you would process multiple examples at once (*in a batch*), generating a unit activation individually for every example. `x_inputs` now carries two examples. Now - using only the one-line operation you found before - again gather the activations. "
   ]
  },
  {
   "cell_type": "markdown",
   "metadata": {},
   "source": [
    "### Solution 10.3"
   ]
  },
  {
   "cell_type": "code",
   "execution_count": 17,
   "metadata": {},
   "outputs": [
    {
     "name": "stdout",
     "output_type": "stream",
     "text": [
      "Shape of inputs:  (2L, 3L)\n",
      "Shape of weights:  (4L, 3L)\n",
      "The 2 sets of inputs of the activation functions for the hidden units are:\n",
      "[[ 4.    3.05]\n",
      " [-0.38 -0.88]\n",
      " [-9.4  -4.05]\n",
      " [ 0.98 -0.37]]\n"
     ]
    }
   ],
   "source": [
    "x_inputs = np.array([[4.0,2.0,3.0], \n",
    "                     [3.0,0.5,4.0]])\n",
    "\n",
    "weights  = np.array([[0.7,0.3,0.2], \n",
    "                     [-0.23,0.42,-0.1], \n",
    "                     [-1.5,-2.3,0.4], \n",
    "                     [0.83,-0.12,-0.7]])\n",
    "\n",
    "print \"Shape of inputs: \", x_inputs.shape\n",
    "print \"Shape of weights: \", weights.shape\n",
    "\n",
    "activation_inputs = np.zeros([weights.shape[0], 2])\n",
    "\n",
    "activation_inputs = np.dot(weights,np.transpose(x_inputs))\n",
    "\n",
    "print \"The 2 sets of inputs of the activation functions for the hidden units are:\"\n",
    "print activation_inputs"
   ]
  },
  {
   "cell_type": "code",
   "execution_count": null,
   "metadata": {
    "collapsed": true
   },
   "outputs": [],
   "source": []
  }
 ],
 "metadata": {
  "anaconda-cloud": {},
  "kernelspec": {
   "display_name": "Python 2",
   "language": "python",
   "name": "python2"
  },
  "language_info": {
   "codemirror_mode": {
    "name": "ipython",
    "version": 2
   },
   "file_extension": ".py",
   "mimetype": "text/x-python",
   "name": "python",
   "nbconvert_exporter": "python",
   "pygments_lexer": "ipython2",
   "version": "2.7.14"
  }
 },
 "nbformat": 4,
 "nbformat_minor": 1
}
